{
 "cells": [
  {
   "cell_type": "code",
   "execution_count": 1,
   "id": "f4c1d5b2",
   "metadata": {},
   "outputs": [],
   "source": [
    "import numpy as np\n",
    "import pandas as pd\n",
    "import matplotlib.pyplot as plt"
   ]
  },
  {
   "cell_type": "markdown",
   "id": "23845ce4",
   "metadata": {},
   "source": [
    "### 1. load data"
   ]
  },
  {
   "cell_type": "code",
   "execution_count": 2,
   "id": "23bb68a5",
   "metadata": {},
   "outputs": [
    {
     "data": {
      "text/html": [
       "<div>\n",
       "<style scoped>\n",
       "    .dataframe tbody tr th:only-of-type {\n",
       "        vertical-align: middle;\n",
       "    }\n",
       "\n",
       "    .dataframe tbody tr th {\n",
       "        vertical-align: top;\n",
       "    }\n",
       "\n",
       "    .dataframe thead th {\n",
       "        text-align: right;\n",
       "    }\n",
       "</style>\n",
       "<table border=\"1\" class=\"dataframe\">\n",
       "  <thead>\n",
       "    <tr style=\"text-align: right;\">\n",
       "      <th></th>\n",
       "      <th>TCGA-AR-A5QQ-01</th>\n",
       "      <th>TCGA-D8-A1JA-01</th>\n",
       "      <th>TCGA-BH-A0BQ-01</th>\n",
       "      <th>TCGA-BH-A0BT-01</th>\n",
       "      <th>TCGA-A8-A06X-01</th>\n",
       "      <th>TCGA-A8-A096-01</th>\n",
       "      <th>TCGA-BH-A0C7-01</th>\n",
       "      <th>TCGA-AC-A5XU-01</th>\n",
       "      <th>TCGA-PE-A5DE-01</th>\n",
       "      <th>TCGA-PE-A5DC-01</th>\n",
       "      <th>...</th>\n",
       "      <th>TCGA-A7-A13E-11</th>\n",
       "      <th>TCGA-C8-A8HP-01</th>\n",
       "      <th>TCGA-E9-A5FL-01</th>\n",
       "      <th>TCGA-AC-A2FB-11</th>\n",
       "      <th>TCGA-E2-A15F-01</th>\n",
       "      <th>TCGA-A2-A3XT-01</th>\n",
       "      <th>TCGA-B6-A0X7-01</th>\n",
       "      <th>TCGA-BH-A1EV-11</th>\n",
       "      <th>TCGA-3C-AALJ-01</th>\n",
       "      <th>TCGA-B6-A0X1-01</th>\n",
       "    </tr>\n",
       "    <tr>\n",
       "      <th>name</th>\n",
       "      <th></th>\n",
       "      <th></th>\n",
       "      <th></th>\n",
       "      <th></th>\n",
       "      <th></th>\n",
       "      <th></th>\n",
       "      <th></th>\n",
       "      <th></th>\n",
       "      <th></th>\n",
       "      <th></th>\n",
       "      <th></th>\n",
       "      <th></th>\n",
       "      <th></th>\n",
       "      <th></th>\n",
       "      <th></th>\n",
       "      <th></th>\n",
       "      <th></th>\n",
       "      <th></th>\n",
       "      <th></th>\n",
       "      <th></th>\n",
       "      <th></th>\n",
       "    </tr>\n",
       "  </thead>\n",
       "  <tbody>\n",
       "    <tr>\n",
       "      <th>ARHGEF10L</th>\n",
       "      <td>0.344457</td>\n",
       "      <td>0.279162</td>\n",
       "      <td>0.338604</td>\n",
       "      <td>0.329097</td>\n",
       "      <td>0.348688</td>\n",
       "      <td>0.352619</td>\n",
       "      <td>0.362908</td>\n",
       "      <td>0.333274</td>\n",
       "      <td>0.358078</td>\n",
       "      <td>0.348278</td>\n",
       "      <td>...</td>\n",
       "      <td>0.348209</td>\n",
       "      <td>0.365727</td>\n",
       "      <td>0.357452</td>\n",
       "      <td>0.357108</td>\n",
       "      <td>0.361027</td>\n",
       "      <td>0.407680</td>\n",
       "      <td>0.378072</td>\n",
       "      <td>0.341225</td>\n",
       "      <td>0.389800</td>\n",
       "      <td>0.369942</td>\n",
       "    </tr>\n",
       "    <tr>\n",
       "      <th>HIF3A</th>\n",
       "      <td>0.230441</td>\n",
       "      <td>0.296027</td>\n",
       "      <td>0.266469</td>\n",
       "      <td>0.222966</td>\n",
       "      <td>0.199041</td>\n",
       "      <td>0.189336</td>\n",
       "      <td>0.294398</td>\n",
       "      <td>0.195636</td>\n",
       "      <td>0.273255</td>\n",
       "      <td>0.310293</td>\n",
       "      <td>...</td>\n",
       "      <td>0.437589</td>\n",
       "      <td>0.250514</td>\n",
       "      <td>0.302447</td>\n",
       "      <td>0.438616</td>\n",
       "      <td>0.208545</td>\n",
       "      <td>0.222194</td>\n",
       "      <td>0.308907</td>\n",
       "      <td>0.409210</td>\n",
       "      <td>0.210038</td>\n",
       "      <td>0.256915</td>\n",
       "    </tr>\n",
       "    <tr>\n",
       "      <th>RNF10</th>\n",
       "      <td>0.342776</td>\n",
       "      <td>0.360117</td>\n",
       "      <td>0.361642</td>\n",
       "      <td>0.400123</td>\n",
       "      <td>0.362811</td>\n",
       "      <td>0.356769</td>\n",
       "      <td>0.343229</td>\n",
       "      <td>0.346959</td>\n",
       "      <td>0.369171</td>\n",
       "      <td>0.366830</td>\n",
       "      <td>...</td>\n",
       "      <td>0.362284</td>\n",
       "      <td>0.371054</td>\n",
       "      <td>0.377865</td>\n",
       "      <td>0.357225</td>\n",
       "      <td>0.363122</td>\n",
       "      <td>0.349523</td>\n",
       "      <td>0.358485</td>\n",
       "      <td>0.348396</td>\n",
       "      <td>0.370938</td>\n",
       "      <td>0.367643</td>\n",
       "    </tr>\n",
       "    <tr>\n",
       "      <th>RNF11</th>\n",
       "      <td>0.360772</td>\n",
       "      <td>0.436315</td>\n",
       "      <td>0.369633</td>\n",
       "      <td>0.359572</td>\n",
       "      <td>0.364719</td>\n",
       "      <td>0.352147</td>\n",
       "      <td>0.349340</td>\n",
       "      <td>0.338929</td>\n",
       "      <td>0.363664</td>\n",
       "      <td>0.350443</td>\n",
       "      <td>...</td>\n",
       "      <td>0.386137</td>\n",
       "      <td>0.369671</td>\n",
       "      <td>0.340643</td>\n",
       "      <td>0.374828</td>\n",
       "      <td>0.351568</td>\n",
       "      <td>0.333820</td>\n",
       "      <td>0.349281</td>\n",
       "      <td>0.384341</td>\n",
       "      <td>0.349904</td>\n",
       "      <td>0.364326</td>\n",
       "    </tr>\n",
       "    <tr>\n",
       "      <th>RNF13</th>\n",
       "      <td>0.339369</td>\n",
       "      <td>0.367657</td>\n",
       "      <td>0.354124</td>\n",
       "      <td>0.353614</td>\n",
       "      <td>0.344907</td>\n",
       "      <td>0.353734</td>\n",
       "      <td>0.350848</td>\n",
       "      <td>0.353627</td>\n",
       "      <td>0.334780</td>\n",
       "      <td>0.349793</td>\n",
       "      <td>...</td>\n",
       "      <td>0.369157</td>\n",
       "      <td>0.344696</td>\n",
       "      <td>0.344703</td>\n",
       "      <td>0.374030</td>\n",
       "      <td>0.357930</td>\n",
       "      <td>0.338491</td>\n",
       "      <td>0.355567</td>\n",
       "      <td>0.375608</td>\n",
       "      <td>0.326741</td>\n",
       "      <td>0.333353</td>\n",
       "    </tr>\n",
       "  </tbody>\n",
       "</table>\n",
       "<p>5 rows × 1218 columns</p>\n",
       "</div>"
      ],
      "text/plain": [
       "           TCGA-AR-A5QQ-01  TCGA-D8-A1JA-01  TCGA-BH-A0BQ-01  TCGA-BH-A0BT-01  \\\n",
       "name                                                                            \n",
       "ARHGEF10L         0.344457         0.279162         0.338604         0.329097   \n",
       "HIF3A             0.230441         0.296027         0.266469         0.222966   \n",
       "RNF10             0.342776         0.360117         0.361642         0.400123   \n",
       "RNF11             0.360772         0.436315         0.369633         0.359572   \n",
       "RNF13             0.339369         0.367657         0.354124         0.353614   \n",
       "\n",
       "           TCGA-A8-A06X-01  TCGA-A8-A096-01  TCGA-BH-A0C7-01  TCGA-AC-A5XU-01  \\\n",
       "name                                                                            \n",
       "ARHGEF10L         0.348688         0.352619         0.362908         0.333274   \n",
       "HIF3A             0.199041         0.189336         0.294398         0.195636   \n",
       "RNF10             0.362811         0.356769         0.343229         0.346959   \n",
       "RNF11             0.364719         0.352147         0.349340         0.338929   \n",
       "RNF13             0.344907         0.353734         0.350848         0.353627   \n",
       "\n",
       "           TCGA-PE-A5DE-01  TCGA-PE-A5DC-01  ...  TCGA-A7-A13E-11  \\\n",
       "name                                         ...                    \n",
       "ARHGEF10L         0.358078         0.348278  ...         0.348209   \n",
       "HIF3A             0.273255         0.310293  ...         0.437589   \n",
       "RNF10             0.369171         0.366830  ...         0.362284   \n",
       "RNF11             0.363664         0.350443  ...         0.386137   \n",
       "RNF13             0.334780         0.349793  ...         0.369157   \n",
       "\n",
       "           TCGA-C8-A8HP-01  TCGA-E9-A5FL-01  TCGA-AC-A2FB-11  TCGA-E2-A15F-01  \\\n",
       "name                                                                            \n",
       "ARHGEF10L         0.365727         0.357452         0.357108         0.361027   \n",
       "HIF3A             0.250514         0.302447         0.438616         0.208545   \n",
       "RNF10             0.371054         0.377865         0.357225         0.363122   \n",
       "RNF11             0.369671         0.340643         0.374828         0.351568   \n",
       "RNF13             0.344696         0.344703         0.374030         0.357930   \n",
       "\n",
       "           TCGA-A2-A3XT-01  TCGA-B6-A0X7-01  TCGA-BH-A1EV-11  TCGA-3C-AALJ-01  \\\n",
       "name                                                                            \n",
       "ARHGEF10L         0.407680         0.378072         0.341225         0.389800   \n",
       "HIF3A             0.222194         0.308907         0.409210         0.210038   \n",
       "RNF10             0.349523         0.358485         0.348396         0.370938   \n",
       "RNF11             0.333820         0.349281         0.384341         0.349904   \n",
       "RNF13             0.338491         0.355567         0.375608         0.326741   \n",
       "\n",
       "           TCGA-B6-A0X1-01  \n",
       "name                        \n",
       "ARHGEF10L         0.369942  \n",
       "HIF3A             0.256915  \n",
       "RNF10             0.367643  \n",
       "RNF11             0.364326  \n",
       "RNF13             0.333353  \n",
       "\n",
       "[5 rows x 1218 columns]"
      ]
     },
     "execution_count": 2,
     "metadata": {},
     "output_type": "execute_result"
    }
   ],
   "source": [
    "#load data\n",
    "normal_x = pd.read_csv('normal.csv',index_col=-1)\n",
    "normal_x  = normal_x .drop(labels=['Unnamed: 0'],axis=1)\n",
    "normal_x .head()\n",
    "cancer_x = pd.read_csv('cancer.csv',index_col=-1)\n",
    "cancer_x  = cancer_x .drop(labels=['Unnamed: 0'],axis=1)\n",
    "cancer_x .head()"
   ]
  },
  {
   "cell_type": "code",
   "execution_count": 3,
   "id": "7589a137",
   "metadata": {},
   "outputs": [
    {
     "name": "stdout",
     "output_type": "stream",
     "text": [
      "(1677,)\n"
     ]
    }
   ],
   "source": [
    "# Create an array with 100 zeros\n",
    "zeros = np.zeros(normal_x.shape[1])\n",
    "# Create an array with 500 ones\n",
    "ones = np.ones(cancer_x.shape[1])\n",
    "# Concatenate the arrays to form a single 1-d vector\n",
    "y = np.concatenate((zeros, ones))\n",
    "print(y.shape)"
   ]
  },
  {
   "cell_type": "code",
   "execution_count": 4,
   "id": "674eb848",
   "metadata": {},
   "outputs": [],
   "source": [
    "#identify the genes shared by all the training samples\n",
    "intersection=[]\n",
    "normal_gene = normal_x.index\n",
    "cancer_gene = cancer_x.index\n",
    "intersection=set(normal_gene).intersection(set(cancer_gene))\n",
    "normal_x = normal_x.loc[intersection]\n",
    "cancer_x = cancer_x.loc[intersection]"
   ]
  },
  {
   "cell_type": "code",
   "execution_count": 5,
   "id": "757a7899",
   "metadata": {},
   "outputs": [],
   "source": [
    "X = pd.merge(normal_x, cancer_x, left_index=True, right_index=True)"
   ]
  },
  {
   "cell_type": "markdown",
   "id": "d8ed1001",
   "metadata": {},
   "source": [
    "### 2.filtered the genes, only retain the ones in AKT pathway"
   ]
  },
  {
   "cell_type": "code",
   "execution_count": 6,
   "id": "fd174ce0",
   "metadata": {},
   "outputs": [],
   "source": [
    "l_bar = X.columns\n",
    "index = [\"PIK3CA\", \"PIK3R1\",\"PTEN\", \"AKT1\", \"AKT2\"]\n",
    "X = X.loc[index,]\n",
    "l_gene = X.index\n",
    "X = np.array(X).T\n",
    "#data_x = pd.DataFrame(data_x.T, columns = l_gene, index = l_bar)\n",
    "#data_x = \n"
   ]
  },
  {
   "cell_type": "code",
   "execution_count": 7,
   "id": "82de15a6",
   "metadata": {},
   "outputs": [],
   "source": [
    "y=y.reshape(y.shape[0],1)\n",
    "X = np.concatenate((X, y), axis=1)\n",
    "l_gene = list(l_gene)\n",
    "l_gene.append(\"breast_cancer\")"
   ]
  },
  {
   "cell_type": "markdown",
   "id": "bbaf3030",
   "metadata": {},
   "source": [
    "### 3.1 PC"
   ]
  },
  {
   "cell_type": "code",
   "execution_count": 9,
   "id": "74cb1ecb",
   "metadata": {},
   "outputs": [
    {
     "data": {
      "application/vnd.jupyter.widget-view+json": {
       "model_id": "2929fb2f5abf48789051c67379268bbe",
       "version_major": 2,
       "version_minor": 0
      },
      "text/plain": [
       "  0%|          | 0/6 [00:00<?, ?it/s]"
      ]
     },
     "metadata": {},
     "output_type": "display_data"
    }
   ],
   "source": [
    "from causallearn.search.ConstraintBased.PC import pc\n",
    "# default parameters\n",
    "cg = pc(X)"
   ]
  },
  {
   "cell_type": "code",
   "execution_count": 11,
   "id": "080754be",
   "metadata": {},
   "outputs": [],
   "source": [
    "from causallearn.utils.GraphUtils import GraphUtils\n",
    "\n",
    "pyd = GraphUtils.to_pydot(cg.G,labels=l_gene)\n",
    "pyd.write_png('simple_test_pc_egf_part.png')"
   ]
  },
  {
   "cell_type": "markdown",
   "id": "baf7974e",
   "metadata": {},
   "source": [
    "### 3.2 FCI"
   ]
  },
  {
   "cell_type": "code",
   "execution_count": 12,
   "id": "3a2644be",
   "metadata": {},
   "outputs": [
    {
     "data": {
      "application/vnd.jupyter.widget-view+json": {
       "model_id": "08d56576908f4bc4b96431003d199eeb",
       "version_major": 2,
       "version_minor": 0
      },
      "text/plain": [
       "  0%|          | 0/6 [00:00<?, ?it/s]"
      ]
     },
     "metadata": {},
     "output_type": "display_data"
    },
    {
     "name": "stdout",
     "output_type": "stream",
     "text": [
      "X1 --> X6\n"
     ]
    }
   ],
   "source": [
    "from causallearn.search.ConstraintBased.FCI import fci\n",
    "\n",
    "# default parameters\n",
    "g, edges = fci(np.array(X))"
   ]
  },
  {
   "cell_type": "code",
   "execution_count": 13,
   "id": "c822a8f5",
   "metadata": {},
   "outputs": [],
   "source": [
    "from causallearn.utils.GraphUtils import GraphUtils\n",
    "\n",
    "pdy = GraphUtils.to_pydot(g,labels=l_gene)\n",
    "pdy.write_png('simple_test_fci_egf_part.png')"
   ]
  },
  {
   "cell_type": "markdown",
   "id": "ac92e3d6",
   "metadata": {},
   "source": [
    "### 3.3 GES"
   ]
  },
  {
   "cell_type": "code",
   "execution_count": 60,
   "id": "e5b8c2bb",
   "metadata": {},
   "outputs": [],
   "source": [
    "from causallearn.search.ScoreBased.GES import ges\n",
    "### 3.3 GES\n",
    "# default parameters\n",
    "Record = ges(X)\n",
    "\n",
    "# or customized parameters\n",
    "#Record = ges(X, score_func, maxP, parameters)\n",
    "\n"
   ]
  },
  {
   "cell_type": "code",
   "execution_count": 61,
   "id": "0962050d",
   "metadata": {},
   "outputs": [
    {
     "data": {
      "image/png": "[encoded data removed]",
      "text/plain": [
       "<Figure size 432x288 with 1 Axes>"
      ]
     },
     "metadata": {
      "needs_background": "light"
     },
     "output_type": "display_data"
    }
   ],
   "source": [
    "# Visualization using pydot\n",
    "from causallearn.utils.GraphUtils import GraphUtils\n",
    "import matplotlib.image as mpimg\n",
    "import matplotlib.pyplot as plt\n",
    "import io\n",
    "\n",
    "pyd = GraphUtils.to_pydot(Record['G'],labels=l_gene)\n",
    "tmp_png = pyd.create_png(f=\"png\")\n",
    "fp = io.BytesIO(tmp_png)\n",
    "img = mpimg.imread(fp, format='png')\n",
    "plt.axis('off')\n",
    "plt.imshow(img)\n",
    "plt.show()\n",
    "\n",
    "\n",
    "# or save the graph\n",
    "pyd.write_png('simple_test_ges_akt_part.png')"
   ]
  },
  {
   "cell_type": "markdown",
   "id": "8802dc6a",
   "metadata": {},
   "source": [
    "### 3.4 The Groud-truth graph"
   ]
  },
  {
   "cell_type": "code",
   "execution_count": 58,
   "id": "318d61de",
   "metadata": {},
   "outputs": [],
   "source": [
    "import numpy as np\n",
    "import pydot\n",
    "\n",
    "# Example adjacency matrix\n",
    "adjacency_matrix = pd.read_csv(\"adjacency_matrix_akt.csv\",index_col=0)\n",
    "adjacency_matrix = np.array(adjacency_matrix).T\n",
    "\n",
    "\n",
    "# Create a directed graph\n",
    "graph = pydot.Dot(graph_type='digraph')\n",
    "\n",
    "# Add nodes to the graph\n",
    "for i in range(len(adjacency_matrix)):\n",
    "    node = pydot.Node(str(i),label=l_gene[i])\n",
    "    graph.add_node(node)\n",
    "\n",
    "# Add directed edges to the graph based on the adjacency matrix\n",
    "for i in range(len(adjacency_matrix)):\n",
    "    for j in range(len(adjacency_matrix[i])):\n",
    "        if adjacency_matrix[i][j] != 0:\n",
    "            edge = pydot.Edge(str(i), str(j))\n",
    "            graph.add_edge(edge)\n",
    "\n",
    "# Save the graph to a file\n",
    "graph.write_png('directed_graph_akt.png')"
   ]
  }
 ],
 "metadata": {
  "kernelspec": {
   "display_name": "Python 3 (ipykernel)",
   "language": "python",
   "name": "python3"
  },
  "language_info": {
   "codemirror_mode": {
    "name": "ipython",
    "version": 3
   },
   "file_extension": ".py",
   "mimetype": "text/x-python",
   "name": "python",
   "nbconvert_exporter": "python",
   "pygments_lexer": "ipython3",
   "version": "3.9.12"
  }
 },
 "nbformat": 4,
 "nbformat_minor": 5
}
